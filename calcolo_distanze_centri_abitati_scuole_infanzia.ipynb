{
 "cells": [
  {
   "cell_type": "markdown",
   "metadata": {},
   "source": [
    "# Calcolo distanza scuole d'infanzia da centri urbani\n",
    "## Dati disponibili\n",
    "### confini comuni d'Italia da ISTAT\n",
    "i dati si trovano a [questa pagina](https://www.istat.it/it/archivio/222527)<br/>\n",
    "I dati sono utilizzati sono quelli dei [confini non generalizzati](https://www.istat.it/storage/cartografia/confini_amministrativi/non_generalizzati/2023/Limiti01012023.zip), in particolare quello dei confini comunali (**Com1012023_WGS84.shp**)\n",
    "\n",
    "### elenco delle scuole da Ministero Istruzione\n",
    "Da questa [risorsa](https://dati.istruzione.it/opendata/opendata/catalogo/elements1/?area=Scuole) sono presi i dati delle anagrafiche delle:\n",
    "- scuole statali\n",
    "- scuole paritarie\n",
    "- scuole statali di Valle d'Aosta, Provincia Autonoma di Trento e Provincia Autonoma di Bolzano\n",
    "- scuole paritarie di Valle d'Aosta, Provincia Autonoma di Trento e Provincia Autonoma di Bolzano<br/>\n",
    "<br/>\n",
    "note:\n",
    "- i dati sono privi di coordinate geografiche\n",
    "\n",
    "### elenco centri abitati da OpenStreetMap\n",
    "A causa del fatto che in Italia esistono diversi comuni sparsi e del fatto di avere un punto significativo che indica il baricentro sociale di un luogo, si è optato per scaricare i dati dei centi urbani da OpenStreetMap selezionando i valori di [city](https://wiki.openstreetmap.org/wiki/Tag%3Aplace%3Dcity), [sub-urb](https://wiki.openstreetmap.org/wiki/Tag%3Aplace%3Dsuburb), [town](https://wiki.openstreetmap.org/wiki/Tag%3Aplace%3Dtown) e [village](https://wiki.openstreetmap.org/wiki/Tag%3Aplace%3Dvillage) dal tag [place](https://wiki.openstreetmap.org/wiki/Map_features#Place) <br/>\n",
    " si possono ottenere anche attraverso questa [query alle overpass-api](https://overpass-turbo.eu/s/1yku)<br/>\n",
    "<br/>\n",
    "note\n",
    " - la categorizzazione è delegata all'interpretazione di chi ha inserito i dati\n",
    " - il punto che rappresenta il toponimo è a discrezione di chi ha inserito i dati: in alcuni casi è il \"baricentro sociale\", in altri il centroide del confine comunale, in altri la piazza principale o il municipo o il campanile ...\n",
    " - ci sono diversi casi in cui è stata creata un'area. In tal caso si sceglie di utilizzare un punto significativo all'interno dell'area sulla base della [funzione di geopandas](https://geopandas.org/en/stable/docs/reference/api/geopandas.GeoSeries.representative_point.html)\n",
    "   \n",
    "###  grafo stradale di openstreetmap\n",
    "si è preso il file pbf che si trova su [geofabrik](https://download.geofabrik.de/europe/italy-latest.osm.pbf) \n",
    "\n",
    "## Calcolo delle distanze\n",
    "Il calcolo delle distanze avviene tramite una istanza [GraphHoper](https://www.graphhopper.com/) da eseguire sul proprio computer.<br/>\n",
    "L'installazione prevede l'installazione di java.<br/>\n",
    "Il software si scarica con queste istruzioni:\n",
    "```bash\n",
    "wget https://repo1.maven.org/maven2/com/graphhopper/graphhopper-web/7.0/graphhopper-web-7.0.jar https://raw.githubusercontent.com/graphhopper/graphhopper/7.x/config-example.yml https://download.geofabrik.de/europe/italy-latest.osm.pbf\n",
    "```\n",
    "l'esecuzione invece con questa istruzione\n",
    "```\n",
    "java -D\"dw.graphhopper.datareader.file=italy-latest.osm.pbf\" -jar graphhopper*.jar server config-example.yml\n",
    "``````\n",
    "L'istruzione *-D\"dw.graphhopper.datareader.file=italy-latest.osm.pbf\"* può essere ignorata qualora venga modificato il file *config-example.yml* con il giusto riferimento al file.\n",
    "\n",
    "## Geocoding\n",
    "Per arricchire le informazioni sulle posizioni delle scuole d'infanzia viene utilizzato il servizio di [geocoding di ESRI ArcGIS](https://developers.arcgis.com/documentation/mapping-apis-and-services/geocoding/geocode-addresses/) sempre attraverso [geopandas](https://geopandas.org/en/stable/docs/reference/api/geopandas.tools.geocode.html)<br/> \n",
    "Il geocoding comunque spesso restituisce valori che vanno verificati i corretti.<br/>\n",
    "<br/>\n",
    "Alcuni consigli per effettuare delle verifiche:\n",
    "- il punto si trova all'interno del comune interessato?\n",
    "- il punto si trova vicino alla via dichiarata? (controllo con uso di reverse-geocoding?)<br/>\n",
    "Ulteriori verifiche possono essere fatte con ricerche mirate online e attraverso la verifica visita attraverso strumenti come Google Street View<br/>\n",
    "<br/>\n",
    "note<br/>\n",
    "- fare molta attenzione al numero di chiamate al secondo\n",
    "\n",
    "# Procedura\n",
    "Lo script jupiter notebook [calcolo_distanze_centri_abitati_scuole_infanzia.ipynb](calcolo_distanze_centri_abitati_scuole_infanzia.ipynb) carica prima i dati cercando nella sottodirectory \"data\".<br/>\n",
    "Da qui fa una serie di operazioni di pulizia/integrazione dei dati che archivia sempre in \"data\" in modo che, ad un secondo avvio dello script, non debba rifare quelle operazioni.<br/>\n",
    "La sezione che si occupa del calcolo delle distanze dalle scuole di infanzia ai centri abitati filtra per una provincia (allo stato attuale è stata inserita Bergamo).<br/>\n",
    "Da qui filtra quindi i dati delle scuole e dei confini comunali della provincia scelta.<br/>\n",
    "Il calcolo delle distanze avviene prendendo poi un comune alla volta, individuando i centri abitati al suo interno e quelli dei comuni confinanti (questo per ridurre i tempi di attesa dei calcoli) - sono quindi *esclusi* i comuni confinanti di altra provincia o regione.<br/>\n",
    "Allo stesso modo individua le scuole d'infanzia (statali o paritarie) contenute nei comuni individuati e avvia le chiamate per il calcolo delle distanze interrogando l'instanza GraphHoper avviata sul proprio computer.<br/>\n",
    "Le distanze sono archiviate in metri ed i tempi di pecorrenza in millesecondi.<br/>\n",
    "La tabella viene generata in \"data\" con il nome di \"distanze_scuoleinfanzia_centriabitati_*Provincia*.csv\" dove *Provincia* corrisponde al nome della provincia scelta.<br/>\n",
    "Nel file vengono poi riportati:\n",
    "- nome della scuola\n",
    "- indirizzo\n",
    "- coordinate scuola\n",
    "- codice identificativo della scuola\n",
    "- comune\n",
    "- codice comune istat\n",
    "- nome del centro abitato\n",
    "- comune dove si trova il centro abitato\n",
    "- codice istat del comune\n",
    "- coordinate del centro abitato\n",
    "- tempo di percorrenza dalla scuola al centro abitato in millesecondi utilizzando l'auto\n",
    "- distanza percorsa dalla scuola al centro abitato in metri utilizzando l'auto\n"
   ]
  },
  {
   "cell_type": "code",
   "execution_count": 126,
   "metadata": {},
   "outputs": [],
   "source": [
    "import geopandas as gpd\n",
    "import time\n",
    "import pandas as pd\n",
    "import os\n",
    "import requests\n",
    "import warnings\n",
    "import requests\n",
    "import urllib3\n",
    "import io\n",
    "requests.packages.urllib3.util.ssl_.DEFAULT_CIPHERS = 'ALL:@SECLEVEL=1'\n",
    "warnings.filterwarnings(\"ignore\", category=DeprecationWarning) \n",
    "pd.set_option('mode.chained_assignment', None)"
   ]
  },
  {
   "cell_type": "markdown",
   "metadata": {},
   "source": [
    "## Caricamento dei dati"
   ]
  },
  {
   "cell_type": "code",
   "execution_count": 127,
   "metadata": {},
   "outputs": [],
   "source": [
    "comuni_italiani = gpd.read_file(\"data\" + os.sep + \"Com01012023_WGS84.shp\", encoding='utf-8')"
   ]
  },
  {
   "cell_type": "code",
   "execution_count": 128,
   "metadata": {},
   "outputs": [
    {
     "name": "stderr",
     "output_type": "stream",
     "text": [
      "/Library/Frameworks/Python.framework/Versions/3.11/lib/python3.11/site-packages/urllib3/connectionpool.py:1095: InsecureRequestWarning: Unverified HTTPS request is being made to host 'dati.istruzione.it'. Adding certificate verification is strongly advised. See: https://urllib3.readthedocs.io/en/latest/advanced-usage.html#tls-warnings\n",
      "  warnings.warn(\n",
      "/Library/Frameworks/Python.framework/Versions/3.11/lib/python3.11/site-packages/urllib3/connectionpool.py:1095: InsecureRequestWarning: Unverified HTTPS request is being made to host 'dati.istruzione.it'. Adding certificate verification is strongly advised. See: https://urllib3.readthedocs.io/en/latest/advanced-usage.html#tls-warnings\n",
      "  warnings.warn(\n",
      "/Library/Frameworks/Python.framework/Versions/3.11/lib/python3.11/site-packages/urllib3/connectionpool.py:1095: InsecureRequestWarning: Unverified HTTPS request is being made to host 'dati.istruzione.it'. Adding certificate verification is strongly advised. See: https://urllib3.readthedocs.io/en/latest/advanced-usage.html#tls-warnings\n",
      "  warnings.warn(\n"
     ]
    }
   ],
   "source": [
    "res = requests.get(\"https://dati.istruzione.it/opendata/opendata/catalogo/elements1/SCUANAGRAFESTAT20232420230901.csv\",verify=False, timeout=120)\n",
    "scuole_italiane_statali = pd.read_csv(io.BytesIO(res.content), sep=',')\n",
    "res = requests.get(\"https://dati.istruzione.it/opendata/opendata/catalogo/elements1/SCUANAGRAFEPAR20232420230901.csv\",verify=False, timeout=120)\n",
    "scuole_italiane_paritarie = pd.read_csv(io.BytesIO(res.content), sep=',')\n",
    "res = requests.get(\"https://dati.istruzione.it/opendata/opendata/catalogo/elements1/SCUANAAUTSTAT20232420230901.csv\",verify=False, timeout=120)\n"
   ]
  },
  {
   "cell_type": "code",
   "execution_count": 129,
   "metadata": {},
   "outputs": [],
   "source": [
    "res = requests.get(\"https://dati.istruzione.it/opendata/opendata/catalogo/elements1/SCUANAAUTSTAT20232420230901.csv\")\n",
    "scuole_province_autonome_statali = pd.read_csv(io.BytesIO(res.content), sep=',')\n",
    "res = requests.get(\"http://dati.istruzione.it/opendata/opendata/catalogo/elements1/SCUANAAUTPAR20232420230901.csv\")\n",
    "scuole_province_autonome_paritarie = pd.read_csv(io.BytesIO(res.content), sep=',')"
   ]
  },
  {
   "cell_type": "code",
   "execution_count": 130,
   "metadata": {},
   "outputs": [],
   "source": [
    "if os.path.exists(\"data\" + os.path.sep + \"centri_abitati_italia_osmistat.gpkg\"):\n",
    "    centri_abitati_italia_osmistat = gpd.read_file(\"data\" + os.path.sep + \"centri_abitati_italia_osmistat.gpkg\")\n",
    "else:\n",
    "    centri_abitati_italia = gpd.read_file(\"data\" + os.sep + \"centri_abitati_italia.geojson\")"
   ]
  },
  {
   "cell_type": "markdown",
   "metadata": {},
   "source": [
    "## Rielaborazione centri abitati"
   ]
  },
  {
   "cell_type": "code",
   "execution_count": 131,
   "metadata": {},
   "outputs": [],
   "source": [
    "if os.path.exists(\"data\" + os.path.sep + \"centri_abitati_italia_osmistat.gpkg\") == False:\n",
    "    centri_abitati_italia.geometry = centri_abitati_italia.geometry.representative_point()\n",
    "    mask = ~centri_abitati_italia['name'].isna()\n",
    "    centri_abitati_italia = centri_abitati_italia[mask]\n",
    "    nomi_centri_abitati = centri_abitati_italia[[\"name\",\"place\",\"geometry\"]]\n",
    "    nomi_centri_abitati_istat = gpd.sjoin(nomi_centri_abitati,\n",
    "                                comuni_italiani.to_crs(epsg=4326), \n",
    "                                how='inner', predicate='within', lsuffix='osm_', rsuffix='istat_')\n",
    "    centri_abitati_italia_osmistat = nomi_centri_abitati_istat.reset_index()[['COD_PROV','PRO_COM','PRO_COM_T','COMUNE',\"name\",\"place\",\"geometry\"]]\n",
    "    new_columns = {}\n",
    "    for column in centri_abitati_italia_osmistat.columns:\n",
    "        new_columns[column] = column.lower()\n",
    "    centri_abitati_italia_osmistat.rename(columns=new_columns,inplace=True)\n",
    "    centri_abitati_italia_osmistat.to_file(\"data\" + os.path.sep + \"centri_abitati_italia_osmistat.gpkg\",driver=\"GPKG\")"
   ]
  },
  {
   "cell_type": "markdown",
   "metadata": {},
   "source": [
    "## Scuole dell' infanzia"
   ]
  },
  {
   "cell_type": "code",
   "execution_count": 132,
   "metadata": {},
   "outputs": [],
   "source": [
    "scuole_italiane = pd.concat([\n",
    "    scuole_italiane_statali[scuole_italiane_paritarie.columns],\n",
    "    scuole_italiane_paritarie,\n",
    "    scuole_province_autonome_paritarie,\n",
    "    scuole_province_autonome_statali[scuole_province_autonome_paritarie.columns]])"
   ]
  },
  {
   "cell_type": "code",
   "execution_count": 133,
   "metadata": {},
   "outputs": [],
   "source": [
    "scuole_infanzia_italiane = scuole_italiane[scuole_italiane.DESCRIZIONETIPOLOGIAGRADOISTRUZIONESCUOLA.isin(['SCUOLA INFANZIA','SCUOLA INFANZIA NON STATALE'])]"
   ]
  },
  {
   "cell_type": "code",
   "execution_count": 134,
   "metadata": {},
   "outputs": [
    {
     "data": {
      "text/html": [
       "<div>\n",
       "<style scoped>\n",
       "    .dataframe tbody tr th:only-of-type {\n",
       "        vertical-align: middle;\n",
       "    }\n",
       "\n",
       "    .dataframe tbody tr th {\n",
       "        vertical-align: top;\n",
       "    }\n",
       "\n",
       "    .dataframe thead th {\n",
       "        text-align: right;\n",
       "    }\n",
       "</style>\n",
       "<table border=\"1\" class=\"dataframe\">\n",
       "  <thead>\n",
       "    <tr style=\"text-align: right;\">\n",
       "      <th></th>\n",
       "      <th>ANNOSCOLASTICO</th>\n",
       "      <th>AREAGEOGRAFICA</th>\n",
       "      <th>REGIONE</th>\n",
       "      <th>PROVINCIA</th>\n",
       "      <th>CODICESCUOLA</th>\n",
       "      <th>DENOMINAZIONESCUOLA</th>\n",
       "      <th>INDIRIZZOSCUOLA</th>\n",
       "      <th>CAPSCUOLA</th>\n",
       "      <th>CODICECOMUNESCUOLA</th>\n",
       "      <th>DESCRIZIONECOMUNE</th>\n",
       "      <th>DESCRIZIONETIPOLOGIAGRADOISTRUZIONESCUOLA</th>\n",
       "      <th>INDIRIZZOEMAILSCUOLA</th>\n",
       "      <th>INDIRIZZOPECSCUOLA</th>\n",
       "      <th>SITOWEBSCUOLA</th>\n",
       "    </tr>\n",
       "  </thead>\n",
       "  <tbody>\n",
       "  </tbody>\n",
       "</table>\n",
       "</div>"
      ],
      "text/plain": [
       "Empty DataFrame\n",
       "Columns: [ANNOSCOLASTICO, AREAGEOGRAFICA, REGIONE, PROVINCIA, CODICESCUOLA, DENOMINAZIONESCUOLA, INDIRIZZOSCUOLA, CAPSCUOLA, CODICECOMUNESCUOLA, DESCRIZIONECOMUNE, DESCRIZIONETIPOLOGIAGRADOISTRUZIONESCUOLA, INDIRIZZOEMAILSCUOLA, INDIRIZZOPECSCUOLA, SITOWEBSCUOLA]\n",
       "Index: []"
      ]
     },
     "execution_count": 134,
     "metadata": {},
     "output_type": "execute_result"
    }
   ],
   "source": [
    "scuole_infanzia_italiane[scuole_infanzia_italiane.PROVINCIA==\"TRENTO\"]"
   ]
  },
  {
   "cell_type": "markdown",
   "metadata": {},
   "source": [
    "## Calcolo su Provincia di Bergamo"
   ]
  },
  {
   "cell_type": "code",
   "execution_count": 135,
   "metadata": {},
   "outputs": [],
   "source": [
    "provincia = 'Lecco'"
   ]
  },
  {
   "cell_type": "markdown",
   "metadata": {},
   "source": [
    "### geometrie"
   ]
  },
  {
   "cell_type": "code",
   "execution_count": 136,
   "metadata": {},
   "outputs": [],
   "source": [
    "codice_provincia = comuni_italiani[comuni_italiani.COMUNE == provincia].COD_PROV.values[0]\n",
    "comuni_provincia = comuni_italiani[comuni_italiani.COD_PROV == codice_provincia]\n",
    "confine_provincia = comuni_provincia.to_crs(epsg=4326).dissolve().geometry.values[0]"
   ]
  },
  {
   "cell_type": "markdown",
   "metadata": {},
   "source": [
    "### Scuole infanzia della provincia e georeferenziazione"
   ]
  },
  {
   "cell_type": "code",
   "execution_count": 137,
   "metadata": {},
   "outputs": [],
   "source": [
    "scuole_italiane_provincia  = scuole_infanzia_italiane[scuole_infanzia_italiane.PROVINCIA == provincia.upper()]"
   ]
  },
  {
   "cell_type": "code",
   "execution_count": 138,
   "metadata": {},
   "outputs": [],
   "source": [
    "geoscuolefilename = \"geo_scuole_infanzia_\" + provincia.lower().replace(\" \",\"_\").replace(\"'\",\"_\") + \".parquet\""
   ]
  },
  {
   "cell_type": "code",
   "execution_count": 139,
   "metadata": {},
   "outputs": [],
   "source": [
    "if os.path.isfile(\"data\" + os.sep + geoscuolefilename) == False:\n",
    "    data = []\n",
    "    for idx, row in scuole_italiane_provincia.iterrows():\n",
    "        datarow = {}\n",
    "        codice = row['CODICESCUOLA']\n",
    "        q = row['INDIRIZZOSCUOLA'] + \", \" + row['CAPSCUOLA'] + \" \" + row['DESCRIZIONECOMUNE'] + \", \" + row['PROVINCIA'] + \", Italia\"\n",
    "        point = gpd.tools.geocode(q, provider=\"arcgis\")\n",
    "        lon = str(point.geometry.x.values[0])\n",
    "        lat = str(point.geometry.y.values[0])\n",
    "        datarow['codice_scuola'] = codice\n",
    "        datarow['lon'] = lon\n",
    "        datarow['lat'] = lat\n",
    "        datarow['address'] = row['INDIRIZZOSCUOLA']\n",
    "        datarow['city'] = row['DESCRIZIONECOMUNE']\n",
    "        datarow['name'] = row['DENOMINAZIONESCUOLA']\n",
    "        data.append(datarow)\n",
    "        time.sleep(5)\n",
    "    geodata_scuole = pd.DataFrame(data)\n",
    "    geodata_scuole.to_parquet(\"data\" + os.sep + geoscuolefilename)\n",
    "else:\n",
    "    geodata_scuole = pd.read_parquet(\"data\" + os.sep + geoscuolefilename)"
   ]
  },
  {
   "cell_type": "code",
   "execution_count": 140,
   "metadata": {},
   "outputs": [],
   "source": [
    "geodata_scuole = gpd.GeoDataFrame(\n",
    "    geodata_scuole,\n",
    "    crs='EPSG:4326',\n",
    "    geometry=gpd.points_from_xy(geodata_scuole.lon, geodata_scuole.lat))\n"
   ]
  },
  {
   "cell_type": "markdown",
   "metadata": {},
   "source": [
    "### Centri abitati della provincia"
   ]
  },
  {
   "cell_type": "code",
   "execution_count": 141,
   "metadata": {},
   "outputs": [],
   "source": [
    "centri_abitati_provincia = centri_abitati_italia_osmistat[centri_abitati_italia_osmistat.within(confine_provincia)]"
   ]
  },
  {
   "cell_type": "markdown",
   "metadata": {},
   "source": [
    "## Calcolo delle distanze\n",
    "questo calcolo richiede che sia in esecuzione graphhopper sulla macchina locale<br/>\n",
    "inoltre per ottimizzare le richieste calcola solo i possibili spostamenti fra comuni confinanti"
   ]
  },
  {
   "cell_type": "code",
   "execution_count": 142,
   "metadata": {},
   "outputs": [],
   "source": [
    "url_route =  \"http://localhost:8989/route\""
   ]
  },
  {
   "cell_type": "code",
   "execution_count": 143,
   "metadata": {},
   "outputs": [],
   "source": [
    "data_scuole = []\n",
    "for idx, row in geodata_scuole.iterrows():\n",
    "    scuola = {}\n",
    "    lat = row['lat']\n",
    "    lon = row['lon']\n",
    "    scuola[\"codice_scuola\"]= row['codice_scuola']\n",
    "    scuola['lat'] = lat\n",
    "    scuola['lon'] = lon\n",
    "    scuola['school_address'] = row['address']\n",
    "    scuola['school_name'] = row['name']\n",
    "    scuola['school_place'] = row['city']\n",
    "    data_scuole.append(scuola)"
   ]
  },
  {
   "cell_type": "code",
   "execution_count": 144,
   "metadata": {},
   "outputs": [],
   "source": [
    "distanzescuolefilename = \"distanze_scuoleinfanzia_centriabitati_\" + provincia.lower().replace(\" \",\"_\").replace(\"'\",\"_\") + \".csv\""
   ]
  },
  {
   "cell_type": "markdown",
   "metadata": {},
   "source": [
    "## Ciclo su comuni confinanti"
   ]
  },
  {
   "cell_type": "code",
   "execution_count": 145,
   "metadata": {},
   "outputs": [],
   "source": [
    "def getdistance(scuole,centri):\n",
    "    rdata = []\n",
    "    for idx, centro_urbano in centri.iterrows():\n",
    "        for sidc, scuola in scuole.iterrows():\n",
    "            data_distance = {}\n",
    "            data_distance['from_pro_com'] = scuola['PRO_COM']\n",
    "            data_distance['from_comune'] = scuola['COMUNE'] \n",
    "            data_distance[\"from_id_school\"] = scuola['codice_scuola']\n",
    "            data_distance['from_name'] = scuola['name']\n",
    "            data_distance['from_address'] = scuola['address']\n",
    "            data_distance['latitude_school'] = scuola['lat']\n",
    "            data_distance['longitude_school'] = scuola['lon']\n",
    "            post_json = {\n",
    "                \"points\": [[float(scuola['lon']),float(scuola['lat'])],[centro_urbano.geometry.x, centro_urbano.geometry.y]],\n",
    "                \"profile\":\"car\",\n",
    "                \"elevation\":\"false\",\n",
    "                \"debug\":\"false\",\n",
    "                \"instructions\":\"false\",\n",
    "                \"locale\":\"en_US\",\n",
    "                \"optimize\":\"false\",\n",
    "                \"points_encoded\":\"true\",\n",
    "                \"snap_preventions\": [\"ferry\"],\n",
    "                \"details\":[\"road_class\",\"road_environment\",\"max_speed\",\"average_speed\"]}\n",
    "            r = requests.post(url = url_route,json=post_json)\n",
    "            data = r.json()\n",
    "            data_distance[\"to\"] = centro_urbano.name\n",
    "            data_distance[\"latitude_to\"] = centro_urbano.geometry.y\n",
    "            data_distance[\"longitude_to\"] = centro_urbano.geometry.x\n",
    "            data_distance[\"to_kind\"] = centro_urbano.place\n",
    "            data_distance[\"to_comune\"] = centro_urbano.comune\n",
    "            data_distance[\"to_pro_com\"] = centro_urbano.pro_com\n",
    "            if \"message\" in data.keys():\n",
    "                #caso in cui il punto non è sul grafo stradale\n",
    "                #possibile errore di geocoding che restituisce il centro del paese\n",
    "                distance = -1\n",
    "                travel_time = -1\n",
    "            else:\n",
    "                distance = data[\"paths\"][0]['distance']\n",
    "                travel_time = data[\"paths\"][0]['time']\n",
    "            data_distance[\"distance\"] = distance\n",
    "            data_distance[\"travel_time\"] = travel_time\n",
    "            rdata.append(data_distance)\n",
    "    return(rdata)"
   ]
  },
  {
   "cell_type": "code",
   "execution_count": 146,
   "metadata": {},
   "outputs": [],
   "source": [
    "if os.path.exists(\"data\" + os.sep + distanzescuolefilename) == False:\n",
    "    distanze_scuole_centri = []\n",
    "    for idx,row in comuni_provincia.iterrows():\n",
    "        g=row['geometry']\n",
    "        comuni_limitrofi = comuni_provincia[comuni_provincia.touches(g)]\n",
    "        scuole_comuni_limtrofi = gpd.sjoin(geodata_scuole,comuni_limitrofi.to_crs(geodata_scuole.crs),predicate=\"within\")\n",
    "        scuole_comuni_limtrofi = scuole_comuni_limtrofi[['codice_scuola','address','name','lon','lat','geometry','PRO_COM','COMUNE']]\n",
    "        scuole_comune = geodata_scuole[geodata_scuole.to_crs(comuni_provincia.crs).within(row['geometry'])]\n",
    "        scuole_comune['PRO_COM'] = row['PRO_COM']\n",
    "        scuole_comune['COMUNE'] = row['COMUNE']\n",
    "        scuole_vicino_comune = pd.concat([scuole_comuni_limtrofi,scuole_comune])\n",
    "        centri_abitati_comune = centri_abitati_italia_osmistat[centri_abitati_italia_osmistat.to_crs(comuni_provincia.crs).within(g)]\n",
    "        if len(distanze_scuole_centri) == 0:\n",
    "            distanze_scuole_centri = getdistance(scuole_vicino_comune,centri_abitati_comune)\n",
    "        else:\n",
    "            distanze_scuole_centri = getdistance(scuole_vicino_comune,centri_abitati_comune) + distanze_scuole_centri\n",
    "    distanze = pd.DataFrame(distanze_scuole_centri) \n",
    "    distanze.to_csv(\"data\" + os.sep + distanzescuolefilename,index=False)\n",
    "else:\n",
    "    distanze = pd.read_csv(\"data\" + os.sep + distanzescuolefilename)   "
   ]
  }
 ],
 "metadata": {
  "kernelspec": {
   "display_name": "Python 3",
   "language": "python",
   "name": "python3"
  },
  "language_info": {
   "codemirror_mode": {
    "name": "ipython",
    "version": 3
   },
   "file_extension": ".py",
   "mimetype": "text/x-python",
   "name": "python",
   "nbconvert_exporter": "python",
   "pygments_lexer": "ipython3",
   "version": "3.11.4"
  },
  "orig_nbformat": 4
 },
 "nbformat": 4,
 "nbformat_minor": 2
}
